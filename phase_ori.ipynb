{
 "cells": [
  {
   "cell_type": "code",
   "execution_count": 4,
   "metadata": {},
   "outputs": [],
   "source": [
    "## Load modules and data\n",
    "import numpy as np\n",
    "import pandas as pd\n",
    "from tqdm import trange\n",
    "import matplotlib.pyplot as plt\n",
    "\n",
    "import sys\n",
    "sys.path.insert(0, \"./src\")\n",
    "\n",
    "from plotting import plot_data, plot_mean_against_index, show_feature, receptive_fields\n",
    "from persistence import persistence\n",
    "from decoding import cohomological_parameterization, remove_feature\n",
    "from noisereduction import PCA_reduction, top_noise_reduction, z_cutoff, density_filtration\n",
    "\n",
    "## Load stimuli\n",
    "data_path = \"/mnt/c/wsl/projects/top_vision/data/PVCre_2021_0012_s6/\"\n",
    "stimli_columns = [\"m\", \"s\", \"e\", \"stim_id\", \"trial_id\", \"grat_type\", \"grat_form\",\n",
    "                \"grat_orientation\", \"grat_contrast\", \"grat_temp_freq\",\n",
    "                \"grat_spat_freq\", \"grat_direction\", \"grat_phase\", \"grat_width\",\n",
    "                \"grat_height\", \"grat_x_position\", \"grat_y_position\",\n",
    "                \"grat_luminance\", \"trial_on_time\", \"trial_off_time\"]\n",
    "stimuli = pd.DataFrame(np.load(data_path + \"gratings_e14.npy\", allow_pickle=True))\n",
    "stimuli.columns = stimli_columns\n",
    "\n",
    "## Compute firing rates\n",
    "# firing_times = np.load(data_path + \"spike_times_e14.npy\", allow_pickle=True)\n",
    "# number_of_spikes = np.zeros([len(stimuli), len(firing_times)])\n",
    "# for neuron in trange(len(firing_times)):\n",
    "#     for stimulus in range(len(stimuli)):\n",
    "#         start = stimuli[\"trial_on_time\"][stimulus] + 0.08\n",
    "#         end = stimuli[\"trial_off_time\"][stimulus] + 0.08\n",
    "#         number_of_spikes[stimulus][neuron] = (\n",
    "#                 sum([1 for time in firing_times[neuron] if start < time < end])\n",
    "#             )\n",
    "# np.save(data_path + \"spike_counts_e14.npy\", number_of_spikes)\n",
    "\n",
    "## Generate dataframe\n",
    "spike_counts = np.load(data_path + \"spike_counts_e14.npy\", allow_pickle=True)\n",
    "orientations = stimuli[\"grat_orientation\"]\n",
    "phases = stimuli[\"grat_phase\"]\n",
    "orientations = [ori + 180 if (stimuli[\"grat_phase\"].iloc[i] > 180) else ori for i,ori in enumerate(stimuli[\"grat_orientation\"])] # change coordinates for ori averaging\n",
    "phases = [180 - phase if (stimuli[\"grat_phase\"].iloc[i] > 180) else phase for i,phase in enumerate(stimuli[\"grat_phase\"])] # change coordinates for ori averaging\n",
    "index = pd.MultiIndex.from_arrays([orientations, phases])\n",
    "index.names = [\"orientation\", \"phase\"]\n",
    "spike_counts = pd.DataFrame(spike_counts, index=index)\n",
    "firing_rates = spike_counts.groupby([\"orientation\", \"phase\"]).mean() # TODO: should divide by stimulus length\n",
    "sem = spike_counts.groupby([\"orientation\", \"phase\"]).sem()\n",
    "\n",
    "data = firing_rates\n",
    "data = data.groupby([\"orientation\"]).mean()"
   ]
  },
  {
   "cell_type": "code",
   "execution_count": 5,
   "metadata": {},
   "outputs": [
    {
     "data": {
      "text/plain": [
       "[0.0,\n",
       " 0.0,\n",
       " 0.0,\n",
       " 0.0,\n",
       " 0.0,\n",
       " 0.0,\n",
       " 0.0,\n",
       " 0.0,\n",
       " 0.0,\n",
       " 0.0,\n",
       " 0.0,\n",
       " 0.0,\n",
       " 0.0,\n",
       " 0.0,\n",
       " 0.0,\n",
       " 0.0,\n",
       " 0.0,\n",
       " 0.0,\n",
       " 0.0,\n",
       " 0.0,\n",
       " 0.0,\n",
       " 0.0,\n",
       " 0.0,\n",
       " 0.0,\n",
       " 0.0,\n",
       " 0.0,\n",
       " 0.0,\n",
       " 0.0,\n",
       " 0.0,\n",
       " 0.0,\n",
       " 0.0,\n",
       " 0.0,\n",
       " 0.0,\n",
       " 0.0,\n",
       " 0.0,\n",
       " 0.0,\n",
       " 0.0,\n",
       " 0.0,\n",
       " 0.0,\n",
       " 0.0,\n",
       " 0.0,\n",
       " 0.0,\n",
       " 0.0,\n",
       " 0.0,\n",
       " 0.0,\n",
       " 0.0,\n",
       " 0.0,\n",
       " 0.0,\n",
       " 0.0,\n",
       " 0.0,\n",
       " 18.0,\n",
       " 18.0,\n",
       " 18.0,\n",
       " 18.0,\n",
       " 18.0,\n",
       " 18.0,\n",
       " 18.0,\n",
       " 18.0,\n",
       " 18.0,\n",
       " 18.0,\n",
       " 18.0,\n",
       " 18.0,\n",
       " 18.0,\n",
       " 18.0,\n",
       " 18.0,\n",
       " 18.0,\n",
       " 18.0,\n",
       " 18.0,\n",
       " 18.0,\n",
       " 18.0,\n",
       " 18.0,\n",
       " 18.0,\n",
       " 18.0,\n",
       " 18.0,\n",
       " 18.0,\n",
       " 18.0,\n",
       " 18.0,\n",
       " 18.0,\n",
       " 18.0,\n",
       " 18.0,\n",
       " 18.0,\n",
       " 18.0,\n",
       " 18.0,\n",
       " 18.0,\n",
       " 18.0,\n",
       " 18.0,\n",
       " 18.0,\n",
       " 18.0,\n",
       " 18.0,\n",
       " 18.0,\n",
       " 18.0,\n",
       " 18.0,\n",
       " 18.0,\n",
       " 18.0,\n",
       " 18.0,\n",
       " 18.0,\n",
       " 18.0,\n",
       " 18.0,\n",
       " 18.0,\n",
       " 18.0,\n",
       " 36.0,\n",
       " 36.0,\n",
       " 36.0,\n",
       " 36.0,\n",
       " 36.0,\n",
       " 36.0,\n",
       " 36.0,\n",
       " 36.0,\n",
       " 36.0,\n",
       " 36.0,\n",
       " 36.0,\n",
       " 36.0,\n",
       " 36.0,\n",
       " 36.0,\n",
       " 36.0,\n",
       " 36.0,\n",
       " 36.0,\n",
       " 36.0,\n",
       " 36.0,\n",
       " 36.0,\n",
       " 36.0,\n",
       " 36.0,\n",
       " 36.0,\n",
       " 36.0,\n",
       " 36.0,\n",
       " 36.0,\n",
       " 36.0,\n",
       " 36.0,\n",
       " 36.0,\n",
       " 36.0,\n",
       " 36.0,\n",
       " 36.0,\n",
       " 36.0,\n",
       " 36.0,\n",
       " 36.0,\n",
       " 36.0,\n",
       " 36.0,\n",
       " 36.0,\n",
       " 36.0,\n",
       " 36.0,\n",
       " 36.0,\n",
       " 36.0,\n",
       " 36.0,\n",
       " 36.0,\n",
       " 36.0,\n",
       " 36.0,\n",
       " 36.0,\n",
       " 36.0,\n",
       " 36.0,\n",
       " 36.0,\n",
       " 54.0,\n",
       " 54.0,\n",
       " 54.0,\n",
       " 54.0,\n",
       " 54.0,\n",
       " 54.0,\n",
       " 54.0,\n",
       " 54.0,\n",
       " 54.0,\n",
       " 54.0,\n",
       " 54.0,\n",
       " 54.0,\n",
       " 54.0,\n",
       " 54.0,\n",
       " 54.0,\n",
       " 54.0,\n",
       " 54.0,\n",
       " 54.0,\n",
       " 54.0,\n",
       " 54.0,\n",
       " 54.0,\n",
       " 54.0,\n",
       " 54.0,\n",
       " 54.0,\n",
       " 54.0,\n",
       " 54.0,\n",
       " 54.0,\n",
       " 54.0,\n",
       " 54.0,\n",
       " 54.0,\n",
       " 54.0,\n",
       " 54.0,\n",
       " 54.0,\n",
       " 54.0,\n",
       " 54.0,\n",
       " 54.0,\n",
       " 54.0,\n",
       " 54.0,\n",
       " 54.0,\n",
       " 54.0,\n",
       " 54.0,\n",
       " 54.0,\n",
       " 54.0,\n",
       " 54.0,\n",
       " 54.0,\n",
       " 54.0,\n",
       " 54.0,\n",
       " 54.0,\n",
       " 54.0,\n",
       " 54.0,\n",
       " 72.0,\n",
       " 72.0,\n",
       " 72.0,\n",
       " 72.0,\n",
       " 72.0,\n",
       " 72.0,\n",
       " 72.0,\n",
       " 72.0,\n",
       " 72.0,\n",
       " 72.0,\n",
       " 72.0,\n",
       " 72.0,\n",
       " 72.0,\n",
       " 72.0,\n",
       " 72.0,\n",
       " 72.0,\n",
       " 72.0,\n",
       " 72.0,\n",
       " 72.0,\n",
       " 72.0,\n",
       " 72.0,\n",
       " 72.0,\n",
       " 72.0,\n",
       " 72.0,\n",
       " 72.0,\n",
       " 72.0,\n",
       " 72.0,\n",
       " 72.0,\n",
       " 72.0,\n",
       " 72.0,\n",
       " 72.0,\n",
       " 72.0,\n",
       " 72.0,\n",
       " 72.0,\n",
       " 72.0,\n",
       " 72.0,\n",
       " 72.0,\n",
       " 72.0,\n",
       " 72.0,\n",
       " 72.0,\n",
       " 72.0,\n",
       " 72.0,\n",
       " 72.0,\n",
       " 72.0,\n",
       " 72.0,\n",
       " 72.0,\n",
       " 72.0,\n",
       " 72.0,\n",
       " 72.0,\n",
       " 72.0,\n",
       " 90.0,\n",
       " 90.0,\n",
       " 90.0,\n",
       " 90.0,\n",
       " 90.0,\n",
       " 90.0,\n",
       " 90.0,\n",
       " 90.0,\n",
       " 90.0,\n",
       " 90.0,\n",
       " 90.0,\n",
       " 90.0,\n",
       " 90.0,\n",
       " 90.0,\n",
       " 90.0,\n",
       " 90.0,\n",
       " 90.0,\n",
       " 90.0,\n",
       " 90.0,\n",
       " 90.0,\n",
       " 90.0,\n",
       " 90.0,\n",
       " 90.0,\n",
       " 90.0,\n",
       " 90.0,\n",
       " 90.0,\n",
       " 90.0,\n",
       " 90.0,\n",
       " 90.0,\n",
       " 90.0,\n",
       " 90.0,\n",
       " 90.0,\n",
       " 90.0,\n",
       " 90.0,\n",
       " 90.0,\n",
       " 90.0,\n",
       " 90.0,\n",
       " 90.0,\n",
       " 90.0,\n",
       " 90.0,\n",
       " 90.0,\n",
       " 90.0,\n",
       " 90.0,\n",
       " 90.0,\n",
       " 90.0,\n",
       " 90.0,\n",
       " 90.0,\n",
       " 90.0,\n",
       " 90.0,\n",
       " 90.0,\n",
       " 108.0,\n",
       " 108.0,\n",
       " 108.0,\n",
       " 108.0,\n",
       " 108.0,\n",
       " 108.0,\n",
       " 108.0,\n",
       " 108.0,\n",
       " 108.0,\n",
       " 108.0,\n",
       " 108.0,\n",
       " 108.0,\n",
       " 108.0,\n",
       " 108.0,\n",
       " 108.0,\n",
       " 108.0,\n",
       " 108.0,\n",
       " 108.0,\n",
       " 108.0,\n",
       " 108.0,\n",
       " 108.0,\n",
       " 108.0,\n",
       " 108.0,\n",
       " 108.0,\n",
       " 108.0,\n",
       " 108.0,\n",
       " 108.0,\n",
       " 108.0,\n",
       " 108.0,\n",
       " 108.0,\n",
       " 108.0,\n",
       " 108.0,\n",
       " 108.0,\n",
       " 108.0,\n",
       " 108.0,\n",
       " 108.0,\n",
       " 108.0,\n",
       " 108.0,\n",
       " 108.0,\n",
       " 108.0,\n",
       " 108.0,\n",
       " 108.0,\n",
       " 108.0,\n",
       " 108.0,\n",
       " 108.0,\n",
       " 108.0,\n",
       " 108.0,\n",
       " 108.0,\n",
       " 108.0,\n",
       " 108.0,\n",
       " 126.0,\n",
       " 126.0,\n",
       " 126.0,\n",
       " 126.0,\n",
       " 126.0,\n",
       " 126.0,\n",
       " 126.0,\n",
       " 126.0,\n",
       " 126.0,\n",
       " 126.0,\n",
       " 126.0,\n",
       " 126.0,\n",
       " 126.0,\n",
       " 126.0,\n",
       " 126.0,\n",
       " 126.0,\n",
       " 126.0,\n",
       " 126.0,\n",
       " 126.0,\n",
       " 126.0,\n",
       " 126.0,\n",
       " 126.0,\n",
       " 126.0,\n",
       " 126.0,\n",
       " 126.0,\n",
       " 126.0,\n",
       " 126.0,\n",
       " 126.0,\n",
       " 126.0,\n",
       " 126.0,\n",
       " 126.0,\n",
       " 126.0,\n",
       " 126.0,\n",
       " 126.0,\n",
       " 126.0,\n",
       " 126.0,\n",
       " 126.0,\n",
       " 126.0,\n",
       " 126.0,\n",
       " 126.0,\n",
       " 126.0,\n",
       " 126.0,\n",
       " 126.0,\n",
       " 126.0,\n",
       " 126.0,\n",
       " 126.0,\n",
       " 126.0,\n",
       " 126.0,\n",
       " 126.0,\n",
       " 126.0,\n",
       " 144.0,\n",
       " 144.0,\n",
       " 144.0,\n",
       " 144.0,\n",
       " 144.0,\n",
       " 144.0,\n",
       " 144.0,\n",
       " 144.0,\n",
       " 144.0,\n",
       " 144.0,\n",
       " 144.0,\n",
       " 144.0,\n",
       " 144.0,\n",
       " 144.0,\n",
       " 144.0,\n",
       " 144.0,\n",
       " 144.0,\n",
       " 144.0,\n",
       " 144.0,\n",
       " 144.0,\n",
       " 144.0,\n",
       " 144.0,\n",
       " 144.0,\n",
       " 144.0,\n",
       " 144.0,\n",
       " 144.0,\n",
       " 144.0,\n",
       " 144.0,\n",
       " 144.0,\n",
       " 144.0,\n",
       " 144.0,\n",
       " 144.0,\n",
       " 144.0,\n",
       " 144.0,\n",
       " 144.0,\n",
       " 144.0,\n",
       " 144.0,\n",
       " 144.0,\n",
       " 144.0,\n",
       " 144.0,\n",
       " 144.0,\n",
       " 144.0,\n",
       " 144.0,\n",
       " 144.0,\n",
       " 144.0,\n",
       " 144.0,\n",
       " 144.0,\n",
       " 144.0,\n",
       " 144.0,\n",
       " 144.0,\n",
       " 162.0,\n",
       " 162.0,\n",
       " 162.0,\n",
       " 162.0,\n",
       " 162.0,\n",
       " 162.0,\n",
       " 162.0,\n",
       " 162.0,\n",
       " 162.0,\n",
       " 162.0,\n",
       " 162.0,\n",
       " 162.0,\n",
       " 162.0,\n",
       " 162.0,\n",
       " 162.0,\n",
       " 162.0,\n",
       " 162.0,\n",
       " 162.0,\n",
       " 162.0,\n",
       " 162.0,\n",
       " 162.0,\n",
       " 162.0,\n",
       " 162.0,\n",
       " 162.0,\n",
       " 162.0,\n",
       " 162.0,\n",
       " 162.0,\n",
       " 162.0,\n",
       " 162.0,\n",
       " 162.0,\n",
       " 162.0,\n",
       " 162.0,\n",
       " 162.0,\n",
       " 162.0,\n",
       " 162.0,\n",
       " 162.0,\n",
       " 162.0,\n",
       " 162.0,\n",
       " 162.0,\n",
       " 162.0,\n",
       " 162.0,\n",
       " 162.0,\n",
       " 162.0,\n",
       " 162.0,\n",
       " 162.0,\n",
       " 162.0,\n",
       " 162.0,\n",
       " 162.0,\n",
       " 162.0,\n",
       " 162.0,\n",
       " 180.0,\n",
       " 180.0,\n",
       " 180.0,\n",
       " 180.0,\n",
       " 180.0,\n",
       " 180.0,\n",
       " 180.0,\n",
       " 180.0,\n",
       " 180.0,\n",
       " 180.0,\n",
       " 180.0,\n",
       " 180.0,\n",
       " 180.0,\n",
       " 180.0,\n",
       " 180.0,\n",
       " 180.0,\n",
       " 180.0,\n",
       " 180.0,\n",
       " 180.0,\n",
       " 180.0,\n",
       " 180.0,\n",
       " 180.0,\n",
       " 180.0,\n",
       " 180.0,\n",
       " 180.0,\n",
       " 180.0,\n",
       " 180.0,\n",
       " 180.0,\n",
       " 180.0,\n",
       " 180.0,\n",
       " 180.0,\n",
       " 180.0,\n",
       " 180.0,\n",
       " 180.0,\n",
       " 180.0,\n",
       " 180.0,\n",
       " 180.0,\n",
       " 180.0,\n",
       " 180.0,\n",
       " 180.0,\n",
       " 180.0,\n",
       " 180.0,\n",
       " 180.0,\n",
       " 180.0,\n",
       " 180.0,\n",
       " 180.0,\n",
       " 180.0,\n",
       " 180.0,\n",
       " 180.0,\n",
       " 180.0,\n",
       " -18.0,\n",
       " -18.0,\n",
       " -18.0,\n",
       " -18.0,\n",
       " -18.0,\n",
       " -18.0,\n",
       " -18.0,\n",
       " -18.0,\n",
       " -18.0,\n",
       " -18.0,\n",
       " -18.0,\n",
       " -18.0,\n",
       " -18.0,\n",
       " -18.0,\n",
       " -18.0,\n",
       " -18.0,\n",
       " -18.0,\n",
       " -18.0,\n",
       " -18.0,\n",
       " -18.0,\n",
       " -18.0,\n",
       " -18.0,\n",
       " -18.0,\n",
       " -18.0,\n",
       " -18.0,\n",
       " -18.0,\n",
       " -18.0,\n",
       " -18.0,\n",
       " -18.0,\n",
       " -18.0,\n",
       " -18.0,\n",
       " -18.0,\n",
       " -18.0,\n",
       " -18.0,\n",
       " -18.0,\n",
       " -18.0,\n",
       " -18.0,\n",
       " -18.0,\n",
       " -18.0,\n",
       " -18.0,\n",
       " -18.0,\n",
       " -18.0,\n",
       " -18.0,\n",
       " -18.0,\n",
       " -18.0,\n",
       " -18.0,\n",
       " -18.0,\n",
       " -18.0,\n",
       " -18.0,\n",
       " -18.0,\n",
       " -36.0,\n",
       " -36.0,\n",
       " -36.0,\n",
       " -36.0,\n",
       " -36.0,\n",
       " -36.0,\n",
       " -36.0,\n",
       " -36.0,\n",
       " -36.0,\n",
       " -36.0,\n",
       " -36.0,\n",
       " -36.0,\n",
       " -36.0,\n",
       " -36.0,\n",
       " -36.0,\n",
       " -36.0,\n",
       " -36.0,\n",
       " -36.0,\n",
       " -36.0,\n",
       " -36.0,\n",
       " -36.0,\n",
       " -36.0,\n",
       " -36.0,\n",
       " -36.0,\n",
       " -36.0,\n",
       " -36.0,\n",
       " -36.0,\n",
       " -36.0,\n",
       " -36.0,\n",
       " -36.0,\n",
       " -36.0,\n",
       " -36.0,\n",
       " -36.0,\n",
       " -36.0,\n",
       " -36.0,\n",
       " -36.0,\n",
       " -36.0,\n",
       " -36.0,\n",
       " -36.0,\n",
       " -36.0,\n",
       " -36.0,\n",
       " -36.0,\n",
       " -36.0,\n",
       " -36.0,\n",
       " -36.0,\n",
       " -36.0,\n",
       " -36.0,\n",
       " -36.0,\n",
       " -36.0,\n",
       " -36.0,\n",
       " -54.0,\n",
       " -54.0,\n",
       " -54.0,\n",
       " -54.0,\n",
       " -54.0,\n",
       " -54.0,\n",
       " -54.0,\n",
       " -54.0,\n",
       " -54.0,\n",
       " -54.0,\n",
       " -54.0,\n",
       " -54.0,\n",
       " -54.0,\n",
       " -54.0,\n",
       " -54.0,\n",
       " -54.0,\n",
       " -54.0,\n",
       " -54.0,\n",
       " -54.0,\n",
       " -54.0,\n",
       " -54.0,\n",
       " -54.0,\n",
       " -54.0,\n",
       " -54.0,\n",
       " -54.0,\n",
       " -54.0,\n",
       " -54.0,\n",
       " -54.0,\n",
       " -54.0,\n",
       " -54.0,\n",
       " -54.0,\n",
       " -54.0,\n",
       " -54.0,\n",
       " -54.0,\n",
       " -54.0,\n",
       " -54.0,\n",
       " -54.0,\n",
       " -54.0,\n",
       " -54.0,\n",
       " -54.0,\n",
       " -54.0,\n",
       " -54.0,\n",
       " -54.0,\n",
       " -54.0,\n",
       " -54.0,\n",
       " -54.0,\n",
       " -54.0,\n",
       " -54.0,\n",
       " -54.0,\n",
       " -54.0,\n",
       " -72.0,\n",
       " -72.0,\n",
       " -72.0,\n",
       " -72.0,\n",
       " -72.0,\n",
       " -72.0,\n",
       " -72.0,\n",
       " -72.0,\n",
       " -72.0,\n",
       " -72.0,\n",
       " -72.0,\n",
       " -72.0,\n",
       " -72.0,\n",
       " -72.0,\n",
       " -72.0,\n",
       " -72.0,\n",
       " -72.0,\n",
       " -72.0,\n",
       " -72.0,\n",
       " -72.0,\n",
       " -72.0,\n",
       " -72.0,\n",
       " -72.0,\n",
       " -72.0,\n",
       " -72.0,\n",
       " -72.0,\n",
       " -72.0,\n",
       " -72.0,\n",
       " -72.0,\n",
       " -72.0,\n",
       " -72.0,\n",
       " -72.0,\n",
       " -72.0,\n",
       " -72.0,\n",
       " -72.0,\n",
       " -72.0,\n",
       " -72.0,\n",
       " -72.0,\n",
       " -72.0,\n",
       " -72.0,\n",
       " -72.0,\n",
       " -72.0,\n",
       " -72.0,\n",
       " -72.0,\n",
       " -72.0,\n",
       " -72.0,\n",
       " -72.0,\n",
       " -72.0,\n",
       " -72.0,\n",
       " -72.0,\n",
       " -90.0,\n",
       " -90.0,\n",
       " -90.0,\n",
       " -90.0,\n",
       " -90.0,\n",
       " -90.0,\n",
       " -90.0,\n",
       " -90.0,\n",
       " -90.0,\n",
       " -90.0,\n",
       " -90.0,\n",
       " -90.0,\n",
       " -90.0,\n",
       " -90.0,\n",
       " -90.0,\n",
       " -90.0,\n",
       " -90.0,\n",
       " -90.0,\n",
       " -90.0,\n",
       " -90.0,\n",
       " -90.0,\n",
       " -90.0,\n",
       " -90.0,\n",
       " -90.0,\n",
       " -90.0,\n",
       " -90.0,\n",
       " -90.0,\n",
       " -90.0,\n",
       " -90.0,\n",
       " -90.0,\n",
       " -90.0,\n",
       " -90.0,\n",
       " -90.0,\n",
       " -90.0,\n",
       " -90.0,\n",
       " -90.0,\n",
       " -90.0,\n",
       " -90.0,\n",
       " -90.0,\n",
       " -90.0,\n",
       " -90.0,\n",
       " -90.0,\n",
       " -90.0,\n",
       " -90.0,\n",
       " -90.0,\n",
       " -90.0,\n",
       " -90.0,\n",
       " -90.0,\n",
       " -90.0,\n",
       " -90.0,\n",
       " -108.0,\n",
       " -108.0,\n",
       " -108.0,\n",
       " -108.0,\n",
       " -108.0,\n",
       " -108.0,\n",
       " -108.0,\n",
       " -108.0,\n",
       " -108.0,\n",
       " -108.0,\n",
       " -108.0,\n",
       " -108.0,\n",
       " -108.0,\n",
       " -108.0,\n",
       " -108.0,\n",
       " -108.0,\n",
       " -108.0,\n",
       " -108.0,\n",
       " -108.0,\n",
       " -108.0,\n",
       " -108.0,\n",
       " -108.0,\n",
       " -108.0,\n",
       " -108.0,\n",
       " -108.0,\n",
       " -108.0,\n",
       " -108.0,\n",
       " -108.0,\n",
       " -108.0,\n",
       " -108.0,\n",
       " -108.0,\n",
       " -108.0,\n",
       " -108.0,\n",
       " -108.0,\n",
       " -108.0,\n",
       " -108.0,\n",
       " -108.0,\n",
       " -108.0,\n",
       " -108.0,\n",
       " -108.0,\n",
       " -108.0,\n",
       " -108.0,\n",
       " -108.0,\n",
       " -108.0,\n",
       " -108.0,\n",
       " -108.0,\n",
       " -108.0,\n",
       " -108.0,\n",
       " -108.0,\n",
       " -108.0,\n",
       " -126.0,\n",
       " -126.0,\n",
       " -126.0,\n",
       " -126.0,\n",
       " -126.0,\n",
       " -126.0,\n",
       " -126.0,\n",
       " -126.0,\n",
       " -126.0,\n",
       " -126.0,\n",
       " -126.0,\n",
       " -126.0,\n",
       " -126.0,\n",
       " -126.0,\n",
       " -126.0,\n",
       " -126.0,\n",
       " -126.0,\n",
       " -126.0,\n",
       " -126.0,\n",
       " -126.0,\n",
       " -126.0,\n",
       " -126.0,\n",
       " -126.0,\n",
       " -126.0,\n",
       " -126.0,\n",
       " -126.0,\n",
       " -126.0,\n",
       " -126.0,\n",
       " -126.0,\n",
       " -126.0,\n",
       " -126.0,\n",
       " -126.0,\n",
       " -126.0,\n",
       " -126.0,\n",
       " -126.0,\n",
       " -126.0,\n",
       " -126.0,\n",
       " -126.0,\n",
       " -126.0,\n",
       " -126.0,\n",
       " -126.0,\n",
       " -126.0,\n",
       " -126.0,\n",
       " -126.0,\n",
       " -126.0,\n",
       " -126.0,\n",
       " -126.0,\n",
       " -126.0,\n",
       " -126.0,\n",
       " -126.0,\n",
       " -144.0,\n",
       " -144.0,\n",
       " -144.0,\n",
       " -144.0,\n",
       " -144.0,\n",
       " -144.0,\n",
       " -144.0,\n",
       " -144.0,\n",
       " -144.0,\n",
       " -144.0,\n",
       " -144.0,\n",
       " -144.0,\n",
       " -144.0,\n",
       " -144.0,\n",
       " -144.0,\n",
       " -144.0,\n",
       " -144.0,\n",
       " -144.0,\n",
       " -144.0,\n",
       " -144.0,\n",
       " -144.0,\n",
       " -144.0,\n",
       " -144.0,\n",
       " -144.0,\n",
       " -144.0,\n",
       " -144.0,\n",
       " -144.0,\n",
       " -144.0,\n",
       " -144.0,\n",
       " -144.0,\n",
       " -144.0,\n",
       " -144.0,\n",
       " -144.0,\n",
       " -144.0,\n",
       " -144.0,\n",
       " -144.0,\n",
       " -144.0,\n",
       " -144.0,\n",
       " -144.0,\n",
       " -144.0,\n",
       " -144.0,\n",
       " -144.0,\n",
       " -144.0,\n",
       " -144.0,\n",
       " -144.0,\n",
       " -144.0,\n",
       " -144.0,\n",
       " -144.0,\n",
       " -144.0,\n",
       " -144.0,\n",
       " -162.0,\n",
       " -162.0,\n",
       " -162.0,\n",
       " -162.0,\n",
       " -162.0,\n",
       " -162.0,\n",
       " -162.0,\n",
       " -162.0,\n",
       " -162.0,\n",
       " -162.0,\n",
       " -162.0,\n",
       " -162.0,\n",
       " -162.0,\n",
       " -162.0,\n",
       " -162.0,\n",
       " -162.0,\n",
       " -162.0,\n",
       " -162.0,\n",
       " -162.0,\n",
       " -162.0,\n",
       " -162.0,\n",
       " -162.0,\n",
       " -162.0,\n",
       " -162.0,\n",
       " -162.0,\n",
       " -162.0,\n",
       " -162.0,\n",
       " -162.0,\n",
       " -162.0,\n",
       " -162.0,\n",
       " -162.0,\n",
       " -162.0,\n",
       " -162.0,\n",
       " -162.0,\n",
       " -162.0,\n",
       " -162.0,\n",
       " -162.0,\n",
       " -162.0,\n",
       " -162.0,\n",
       " -162.0,\n",
       " -162.0,\n",
       " -162.0,\n",
       " -162.0,\n",
       " -162.0,\n",
       " -162.0,\n",
       " -162.0,\n",
       " -162.0,\n",
       " -162.0,\n",
       " -162.0,\n",
       " -162.0,\n",
       " ...]"
      ]
     },
     "execution_count": 5,
     "metadata": {},
     "output_type": "execute_result"
    }
   ],
   "source": [
    "phases"
   ]
  },
  {
   "cell_type": "code",
   "execution_count": null,
   "metadata": {},
   "outputs": [],
   "source": [
    "## Normalize firing rates\n",
    "for neuron in data.columns:\n",
    "    data[neuron] = data[neuron] / data[neuron].abs().max()  # TODO: should do z-score instead"
   ]
  },
  {
   "cell_type": "code",
   "execution_count": null,
   "metadata": {},
   "outputs": [],
   "source": [
    "## Apply noise reduction\n",
    "data = PCA_reduction(data, 10)\n",
    "# data = z_cutoff(data,2)\n",
    "# data = top_noise_reduction(data, n=4000, speed=0.02, omega=0.8, fraction=0.9, plot_history=True)\n",
    "data = density_filtration(data, 15, 0.7)\n",
    "data_backup = data"
   ]
  },
  {
   "cell_type": "code",
   "execution_count": 2,
   "metadata": {},
   "outputs": [
    {
     "name": "stderr",
     "output_type": "stream",
     "text": [
      "/home/loek/miniconda3/envs/top_vision/lib/python3.9/site-packages/ripser/ripser.py:247: UserWarning:\n",
      "\n",
      "The input matrix is square, but the distance_matrix flag is off.  Did you mean to indicate that this was a distance matrix?\n",
      "\n"
     ]
    },
    {
     "data": {
      "image/png": "[encoded data removed]",
      "text/plain": [
       "<Figure size 432x288 with 1 Axes>"
      ]
     },
     "metadata": {
      "needs_background": "light"
     },
     "output_type": "display_data"
    },
    {
     "name": "stderr",
     "output_type": "stream",
     "text": [
      "/home/loek/miniconda3/envs/top_vision/lib/python3.9/site-packages/ripser/ripser.py:247: UserWarning:\n",
      "\n",
      "The input matrix is square, but the distance_matrix flag is off.  Did you mean to indicate that this was a distance matrix?\n",
      "\n"
     ]
    },
    {
     "data": {
      "image/png": "[encoded data removed]",
      "text/plain": [
       "<Figure size 640x480 with 1 Axes>"
      ]
     },
     "metadata": {},
     "output_type": "display_data"
    }
   ],
   "source": [
    "## Analyze shape\n",
    "persistence(data,homdim=2,coeff=2)\n",
    "persistence(data,homdim=2,coeff=3)"
   ]
  },
  {
   "cell_type": "code",
   "execution_count": 8,
   "metadata": {},
   "outputs": [
    {
     "name": "stderr",
     "output_type": "stream",
     "text": [
      "/home/loek/miniconda3/envs/top_vision/lib/python3.9/site-packages/ripser/ripser.py:247: UserWarning:\n",
      "\n",
      "The input matrix is square, but the distance_matrix flag is off.  Did you mean to indicate that this was a distance matrix?\n",
      "\n",
      "/home/loek/miniconda3/envs/top_vision/lib/python3.9/site-packages/ripser/ripser.py:247: UserWarning:\n",
      "\n",
      "The input matrix is square, but the distance_matrix flag is off.  Did you mean to indicate that this was a distance matrix?\n",
      "\n"
     ]
    },
    {
     "data": {
      "image/png": "[encoded data removed]",
      "text/plain": [
       "<Figure size 640x480 with 1 Axes>"
      ]
     },
     "metadata": {},
     "output_type": "display_data"
    },
    {
     "name": "stdout",
     "output_type": "stream",
     "text": [
      "Decoding... done\n"
     ]
    },
    {
     "name": "stderr",
     "output_type": "stream",
     "text": [
      "Averaging images: 100%|██████████| 40/40 [00:00<00:00, 294.22it/s]"
     ]
    },
    {
     "name": "stdout",
     "output_type": "stream",
     "text": [
      "Number of images averaged over:\n",
      "[4. 4. 4. 4. 4. 4. 4. 4. 4. 4.]\n"
     ]
    },
    {
     "name": "stderr",
     "output_type": "stream",
     "text": [
      "\n"
     ]
    },
    {
     "data": {
      "image/png": "[encoded data removed]",
      "text/plain": [
       "<Figure size 640x480 with 1 Axes>"
      ]
     },
     "metadata": {},
     "output_type": "display_data"
    },
    {
     "data": {
      "image/png": "[encoded data removed]",
      "text/plain": [
       "<Figure size 640x480 with 1 Axes>"
      ]
     },
     "metadata": {},
     "output_type": "display_data"
    },
    {
     "data": {
      "application/vnd.plotly.v1+json": {
       "config": {
        "plotlyServerURL": "https://plot.ly"
       },
       "data": [
        {
         "hoverinfo": [
          "x",
          "text"
         ],
         "marker": {
          "color": [
           0,
           9,
           18,
           27,
           36,
           45,
           54,
           63,
           72,
           81,
           90,
           99,
           108,
           117,
           126,
           135,
           144,
           153,
           162,
           171,
           180,
           189,
           198,
           207,
           216,
           225,
           234,
           243,
           252,
           261,
           270,
           279,
           288,
           297,
           306,
           315,
           324,
           333,
           342,
           351
          ],
          "colorscale": [
           [
            0,
            "#e2d9e2"
           ],
           [
            0.1111111111111111,
            "#9ebbc9"
           ],
           [
            0.2222222222222222,
            "#6785be"
           ],
           [
            0.3333333333333333,
            "#5e43a5"
           ],
           [
            0.4444444444444444,
            "#421257"
           ],
           [
            0.5555555555555556,
            "#471340"
           ],
           [
            0.6666666666666666,
            "#8e2c50"
           ],
           [
            0.7777777777777778,
            "#ba6657"
           ],
           [
            0.8888888888888888,
            "#ceac94"
           ],
           [
            1,
            "#e2d9e2"
           ]
          ],
          "size": 5,
          "sizemode": "diameter"
         },
         "mode": "markers",
         "name": "orientation",
         "scene": "scene",
         "text": [
          0,
          9,
          18,
          27,
          36,
          45,
          54,
          63,
          72,
          81,
          90,
          99,
          108,
          117,
          126,
          135,
          144,
          153,
          162,
          171,
          180,
          189,
          198,
          207,
          216,
          225,
          234,
          243,
          252,
          261,
          270,
          279,
          288,
          297,
          306,
          315,
          324,
          333,
          342,
          351
         ],
         "type": "scatter3d",
         "x": [
          0.2564128398584487,
          0.3905970637525332,
          0.19493047036959604,
          0.30966485359479246,
          0.32216122543546305,
          0.40486613646060243,
          0.4355487067482599,
          0.5662454773952927,
          0.647130161502933,
          0.4424436955516941,
          0.5495170878450985,
          0.5339399298825628,
          0.554186959966337,
          0.6431809633462369,
          0.42293135048309294,
          0.3828915842955502,
          0.3886887439835693,
          0.3701513692896436,
          0.3107220072358502,
          0.3282266049505367,
          -0.36075790843385824,
          -0.4156304031234385,
          -0.4649163122824485,
          -0.4528654887187143,
          -0.3464073459097478,
          -0.5150506421545503,
          -0.42787724664605714,
          -0.4016537833403075,
          -0.3626848640537079,
          -0.38279032155998105,
          -0.3485930060197945,
          -0.49896876056448763,
          -0.3602104798698449,
          -0.46653137257440513,
          -0.37874463162203337,
          -0.4555120110101467,
          -0.43514068714092013,
          -0.49246842885645514,
          -0.4843178710942094,
          -0.4033156669729897
         ],
         "y": [
          -0.1451496881583266,
          -0.16788307367416902,
          -0.24651062451141034,
          -0.2896511039018097,
          -0.11468764650639916,
          -0.013804234677230883,
          -0.06149333450758988,
          0.12020838776300098,
          0.11979455796759346,
          0.22160814847879945,
          0.18361503170252436,
          0.2522461347477254,
          0.23542007349838648,
          0.1915277157210597,
          -0.13350391127576106,
          0.08747275854203491,
          -0.14616466654306806,
          -0.08181675415318734,
          -0.2601101935013105,
          -0.2482668350002834,
          -0.3520810358165311,
          -0.4420877623884158,
          -0.2570047103443735,
          -0.30115410976463014,
          -0.10006128009067654,
          0.027337304041648806,
          0.16033593485220948,
          0.2979380950220582,
          0.5021458175476701,
          0.30991008795509,
          0.45174834500641103,
          0.43973504742235925,
          0.19822687605573008,
          0.09380747753422708,
          0.0656162870439259,
          -0.057359491592519324,
          -0.068508671656645,
          -0.10606030097105214,
          -0.1551477720064512,
          -0.21018687986062032
         ],
         "z": [
          0.2040045480598192,
          0.029297395657497158,
          -0.0912402751432796,
          -0.10883003444893605,
          -0.253697933572049,
          -0.09487902683102536,
          -0.16876413625367742,
          -0.17722623495459391,
          -0.08251822574003746,
          -0.14496802609698947,
          0.023627696577316903,
          -0.03127553046004924,
          -0.011162074306821677,
          -0.028706394785530987,
          -0.09893356934917173,
          0.17996626588981612,
          0.05213407486448176,
          0.324700926799806,
          0.2649127379563807,
          0.3086017285527479,
          0.12007189134148176,
          -0.06567262037243352,
          -0.07841778357831429,
          -0.12439312560738544,
          0.03091560130734043,
          -0.0862395228830933,
          -0.026444642419836625,
          0.04919772658595803,
          0.08072662807774893,
          0.02158407175853139,
          0.14040645789584605,
          0.17543629892789836,
          -0.09009078475636945,
          -0.16790117596528112,
          -0.10475246626035613,
          -0.06455276140223874,
          -0.05767505358789346,
          -0.07385832973331415,
          0.01759824506719976,
          0.2090174331888072
         ]
        },
        {
         "hoverinfo": [
          "x",
          "text"
         ],
         "marker": {
          "color": [
           0,
           0,
           0,
           0,
           0,
           0,
           0,
           0,
           0,
           0,
           0,
           0,
           0,
           0,
           0,
           0,
           0,
           0,
           0,
           0,
           0.31136249246520364,
           0.5205617130032414,
           0.6859096590686584,
           0.5644129874758622,
           0.4867675903556866,
           0.335792608992151,
           0.4112800996739192,
           0.41128009967391943,
           0.4112800996739192,
           0.41128009967391954,
           0.4112800996739192,
           0.41128009967391943,
           0.26166525327762247,
           0.2541845109578078,
           0.2616652532776227,
           0.24670376863799304,
           0.2854676152043062,
           0.2603051183103835,
           0.171896345439845,
           0.2416294189525241
          ],
          "colorscale": [
           [
            0,
            "#e2d9e2"
           ],
           [
            0.1111111111111111,
            "#9ebbc9"
           ],
           [
            0.2222222222222222,
            "#6785be"
           ],
           [
            0.3333333333333333,
            "#5e43a5"
           ],
           [
            0.4444444444444444,
            "#421257"
           ],
           [
            0.5555555555555556,
            "#471340"
           ],
           [
            0.6666666666666666,
            "#8e2c50"
           ],
           [
            0.7777777777777778,
            "#ba6657"
           ],
           [
            0.8888888888888888,
            "#ceac94"
           ],
           [
            1,
            "#e2d9e2"
           ]
          ],
          "size": 5,
          "sizemode": "diameter"
         },
         "mode": "markers",
         "name": "decoding",
         "scene": "scene2",
         "text": [
          0,
          0,
          0,
          0,
          0,
          0,
          0,
          0,
          0,
          0,
          0,
          0,
          0,
          0,
          0,
          0,
          0,
          0,
          0,
          0,
          0.31136249246520364,
          0.5205617130032414,
          0.6859096590686584,
          0.5644129874758622,
          0.4867675903556866,
          0.335792608992151,
          0.4112800996739192,
          0.41128009967391943,
          0.4112800996739192,
          0.41128009967391954,
          0.4112800996739192,
          0.41128009967391943,
          0.26166525327762247,
          0.2541845109578078,
          0.2616652532776227,
          0.24670376863799304,
          0.2854676152043062,
          0.2603051183103835,
          0.171896345439845,
          0.2416294189525241
         ],
         "type": "scatter3d",
         "x": [
          0.2564128398584487,
          0.3905970637525332,
          0.19493047036959604,
          0.30966485359479246,
          0.32216122543546305,
          0.40486613646060243,
          0.4355487067482599,
          0.5662454773952927,
          0.647130161502933,
          0.4424436955516941,
          0.5495170878450985,
          0.5339399298825628,
          0.554186959966337,
          0.6431809633462369,
          0.42293135048309294,
          0.3828915842955502,
          0.3886887439835693,
          0.3701513692896436,
          0.3107220072358502,
          0.3282266049505367,
          -0.36075790843385824,
          -0.4156304031234385,
          -0.4649163122824485,
          -0.4528654887187143,
          -0.3464073459097478,
          -0.5150506421545503,
          -0.42787724664605714,
          -0.4016537833403075,
          -0.3626848640537079,
          -0.38279032155998105,
          -0.3485930060197945,
          -0.49896876056448763,
          -0.3602104798698449,
          -0.46653137257440513,
          -0.37874463162203337,
          -0.4555120110101467,
          -0.43514068714092013,
          -0.49246842885645514,
          -0.4843178710942094,
          -0.4033156669729897
         ],
         "y": [
          -0.1451496881583266,
          -0.16788307367416902,
          -0.24651062451141034,
          -0.2896511039018097,
          -0.11468764650639916,
          -0.013804234677230883,
          -0.06149333450758988,
          0.12020838776300098,
          0.11979455796759346,
          0.22160814847879945,
          0.18361503170252436,
          0.2522461347477254,
          0.23542007349838648,
          0.1915277157210597,
          -0.13350391127576106,
          0.08747275854203491,
          -0.14616466654306806,
          -0.08181675415318734,
          -0.2601101935013105,
          -0.2482668350002834,
          -0.3520810358165311,
          -0.4420877623884158,
          -0.2570047103443735,
          -0.30115410976463014,
          -0.10006128009067654,
          0.027337304041648806,
          0.16033593485220948,
          0.2979380950220582,
          0.5021458175476701,
          0.30991008795509,
          0.45174834500641103,
          0.43973504742235925,
          0.19822687605573008,
          0.09380747753422708,
          0.0656162870439259,
          -0.057359491592519324,
          -0.068508671656645,
          -0.10606030097105214,
          -0.1551477720064512,
          -0.21018687986062032
         ],
         "z": [
          0.2040045480598192,
          0.029297395657497158,
          -0.0912402751432796,
          -0.10883003444893605,
          -0.253697933572049,
          -0.09487902683102536,
          -0.16876413625367742,
          -0.17722623495459391,
          -0.08251822574003746,
          -0.14496802609698947,
          0.023627696577316903,
          -0.03127553046004924,
          -0.011162074306821677,
          -0.028706394785530987,
          -0.09893356934917173,
          0.17996626588981612,
          0.05213407486448176,
          0.324700926799806,
          0.2649127379563807,
          0.3086017285527479,
          0.12007189134148176,
          -0.06567262037243352,
          -0.07841778357831429,
          -0.12439312560738544,
          0.03091560130734043,
          -0.0862395228830933,
          -0.026444642419836625,
          0.04919772658595803,
          0.08072662807774893,
          0.02158407175853139,
          0.14040645789584605,
          0.17543629892789836,
          -0.09009078475636945,
          -0.16790117596528112,
          -0.10475246626035613,
          -0.06455276140223874,
          -0.05767505358789346,
          -0.07385832973331415,
          0.01759824506719976,
          0.2090174331888072
         ]
        }
       ],
       "layout": {
        "height": 800,
        "scene": {
         "domain": {
          "x": [
           0,
           1
          ],
          "y": [
           0.575,
           1
          ]
         }
        },
        "scene2": {
         "domain": {
          "x": [
           0,
           1
          ],
          "y": [
           0,
           0.425
          ]
         }
        },
        "template": {
         "data": {
          "bar": [
           {
            "error_x": {
             "color": "#2a3f5f"
            },
            "error_y": {
             "color": "#2a3f5f"
            },
            "marker": {
             "line": {
              "color": "#E5ECF6",
              "width": 0.5
             },
             "pattern": {
              "fillmode": "overlay",
              "size": 10,
              "solidity": 0.2
             }
            },
            "type": "bar"
           }
          ],
          "barpolar": [
           {
            "marker": {
             "line": {
              "color": "#E5ECF6",
              "width": 0.5
             },
             "pattern": {
              "fillmode": "overlay",
              "size": 10,
              "solidity": 0.2
             }
            },
            "type": "barpolar"
           }
          ],
          "carpet": [
           {
            "aaxis": {
             "endlinecolor": "#2a3f5f",
             "gridcolor": "white",
             "linecolor": "white",
             "minorgridcolor": "white",
             "startlinecolor": "#2a3f5f"
            },
            "baxis": {
             "endlinecolor": "#2a3f5f",
             "gridcolor": "white",
             "linecolor": "white",
             "minorgridcolor": "white",
             "startlinecolor": "#2a3f5f"
            },
            "type": "carpet"
           }
          ],
          "choropleth": [
           {
            "colorbar": {
             "outlinewidth": 0,
             "ticks": ""
            },
            "type": "choropleth"
           }
          ],
          "contour": [
           {
            "colorbar": {
             "outlinewidth": 0,
             "ticks": ""
            },
            "colorscale": [
             [
              0,
              "#0d0887"
             ],
             [
              0.1111111111111111,
              "#46039f"
             ],
             [
              0.2222222222222222,
              "#7201a8"
             ],
             [
              0.3333333333333333,
              "#9c179e"
             ],
             [
              0.4444444444444444,
              "#bd3786"
             ],
             [
              0.5555555555555556,
              "#d8576b"
             ],
             [
              0.6666666666666666,
              "#ed7953"
             ],
             [
              0.7777777777777778,
              "#fb9f3a"
             ],
             [
              0.8888888888888888,
              "#fdca26"
             ],
             [
              1,
              "#f0f921"
             ]
            ],
            "type": "contour"
           }
          ],
          "contourcarpet": [
           {
            "colorbar": {
             "outlinewidth": 0,
             "ticks": ""
            },
            "type": "contourcarpet"
           }
          ],
          "heatmap": [
           {
            "colorbar": {
             "outlinewidth": 0,
             "ticks": ""
            },
            "colorscale": [
             [
              0,
              "#0d0887"
             ],
             [
              0.1111111111111111,
              "#46039f"
             ],
             [
              0.2222222222222222,
              "#7201a8"
             ],
             [
              0.3333333333333333,
              "#9c179e"
             ],
             [
              0.4444444444444444,
              "#bd3786"
             ],
             [
              0.5555555555555556,
              "#d8576b"
             ],
             [
              0.6666666666666666,
              "#ed7953"
             ],
             [
              0.7777777777777778,
              "#fb9f3a"
             ],
             [
              0.8888888888888888,
              "#fdca26"
             ],
             [
              1,
              "#f0f921"
             ]
            ],
            "type": "heatmap"
           }
          ],
          "heatmapgl": [
           {
            "colorbar": {
             "outlinewidth": 0,
             "ticks": ""
            },
            "colorscale": [
             [
              0,
              "#0d0887"
             ],
             [
              0.1111111111111111,
              "#46039f"
             ],
             [
              0.2222222222222222,
              "#7201a8"
             ],
             [
              0.3333333333333333,
              "#9c179e"
             ],
             [
              0.4444444444444444,
              "#bd3786"
             ],
             [
              0.5555555555555556,
              "#d8576b"
             ],
             [
              0.6666666666666666,
              "#ed7953"
             ],
             [
              0.7777777777777778,
              "#fb9f3a"
             ],
             [
              0.8888888888888888,
              "#fdca26"
             ],
             [
              1,
              "#f0f921"
             ]
            ],
            "type": "heatmapgl"
           }
          ],
          "histogram": [
           {
            "marker": {
             "pattern": {
              "fillmode": "overlay",
              "size": 10,
              "solidity": 0.2
             }
            },
            "type": "histogram"
           }
          ],
          "histogram2d": [
           {
            "colorbar": {
             "outlinewidth": 0,
             "ticks": ""
            },
            "colorscale": [
             [
              0,
              "#0d0887"
             ],
             [
              0.1111111111111111,
              "#46039f"
             ],
             [
              0.2222222222222222,
              "#7201a8"
             ],
             [
              0.3333333333333333,
              "#9c179e"
             ],
             [
              0.4444444444444444,
              "#bd3786"
             ],
             [
              0.5555555555555556,
              "#d8576b"
             ],
             [
              0.6666666666666666,
              "#ed7953"
             ],
             [
              0.7777777777777778,
              "#fb9f3a"
             ],
             [
              0.8888888888888888,
              "#fdca26"
             ],
             [
              1,
              "#f0f921"
             ]
            ],
            "type": "histogram2d"
           }
          ],
          "histogram2dcontour": [
           {
            "colorbar": {
             "outlinewidth": 0,
             "ticks": ""
            },
            "colorscale": [
             [
              0,
              "#0d0887"
             ],
             [
              0.1111111111111111,
              "#46039f"
             ],
             [
              0.2222222222222222,
              "#7201a8"
             ],
             [
              0.3333333333333333,
              "#9c179e"
             ],
             [
              0.4444444444444444,
              "#bd3786"
             ],
             [
              0.5555555555555556,
              "#d8576b"
             ],
             [
              0.6666666666666666,
              "#ed7953"
             ],
             [
              0.7777777777777778,
              "#fb9f3a"
             ],
             [
              0.8888888888888888,
              "#fdca26"
             ],
             [
              1,
              "#f0f921"
             ]
            ],
            "type": "histogram2dcontour"
           }
          ],
          "mesh3d": [
           {
            "colorbar": {
             "outlinewidth": 0,
             "ticks": ""
            },
            "type": "mesh3d"
           }
          ],
          "parcoords": [
           {
            "line": {
             "colorbar": {
              "outlinewidth": 0,
              "ticks": ""
             }
            },
            "type": "parcoords"
           }
          ],
          "pie": [
           {
            "automargin": true,
            "type": "pie"
           }
          ],
          "scatter": [
           {
            "marker": {
             "colorbar": {
              "outlinewidth": 0,
              "ticks": ""
             }
            },
            "type": "scatter"
           }
          ],
          "scatter3d": [
           {
            "line": {
             "colorbar": {
              "outlinewidth": 0,
              "ticks": ""
             }
            },
            "marker": {
             "colorbar": {
              "outlinewidth": 0,
              "ticks": ""
             }
            },
            "type": "scatter3d"
           }
          ],
          "scattercarpet": [
           {
            "marker": {
             "colorbar": {
              "outlinewidth": 0,
              "ticks": ""
             }
            },
            "type": "scattercarpet"
           }
          ],
          "scattergeo": [
           {
            "marker": {
             "colorbar": {
              "outlinewidth": 0,
              "ticks": ""
             }
            },
            "type": "scattergeo"
           }
          ],
          "scattergl": [
           {
            "marker": {
             "colorbar": {
              "outlinewidth": 0,
              "ticks": ""
             }
            },
            "type": "scattergl"
           }
          ],
          "scattermapbox": [
           {
            "marker": {
             "colorbar": {
              "outlinewidth": 0,
              "ticks": ""
             }
            },
            "type": "scattermapbox"
           }
          ],
          "scatterpolar": [
           {
            "marker": {
             "colorbar": {
              "outlinewidth": 0,
              "ticks": ""
             }
            },
            "type": "scatterpolar"
           }
          ],
          "scatterpolargl": [
           {
            "marker": {
             "colorbar": {
              "outlinewidth": 0,
              "ticks": ""
             }
            },
            "type": "scatterpolargl"
           }
          ],
          "scatterternary": [
           {
            "marker": {
             "colorbar": {
              "outlinewidth": 0,
              "ticks": ""
             }
            },
            "type": "scatterternary"
           }
          ],
          "surface": [
           {
            "colorbar": {
             "outlinewidth": 0,
             "ticks": ""
            },
            "colorscale": [
             [
              0,
              "#0d0887"
             ],
             [
              0.1111111111111111,
              "#46039f"
             ],
             [
              0.2222222222222222,
              "#7201a8"
             ],
             [
              0.3333333333333333,
              "#9c179e"
             ],
             [
              0.4444444444444444,
              "#bd3786"
             ],
             [
              0.5555555555555556,
              "#d8576b"
             ],
             [
              0.6666666666666666,
              "#ed7953"
             ],
             [
              0.7777777777777778,
              "#fb9f3a"
             ],
             [
              0.8888888888888888,
              "#fdca26"
             ],
             [
              1,
              "#f0f921"
             ]
            ],
            "type": "surface"
           }
          ],
          "table": [
           {
            "cells": {
             "fill": {
              "color": "#EBF0F8"
             },
             "line": {
              "color": "white"
             }
            },
            "header": {
             "fill": {
              "color": "#C8D4E3"
             },
             "line": {
              "color": "white"
             }
            },
            "type": "table"
           }
          ]
         },
         "layout": {
          "annotationdefaults": {
           "arrowcolor": "#2a3f5f",
           "arrowhead": 0,
           "arrowwidth": 1
          },
          "autotypenumbers": "strict",
          "coloraxis": {
           "colorbar": {
            "outlinewidth": 0,
            "ticks": ""
           }
          },
          "colorscale": {
           "diverging": [
            [
             0,
             "#8e0152"
            ],
            [
             0.1,
             "#c51b7d"
            ],
            [
             0.2,
             "#de77ae"
            ],
            [
             0.3,
             "#f1b6da"
            ],
            [
             0.4,
             "#fde0ef"
            ],
            [
             0.5,
             "#f7f7f7"
            ],
            [
             0.6,
             "#e6f5d0"
            ],
            [
             0.7,
             "#b8e186"
            ],
            [
             0.8,
             "#7fbc41"
            ],
            [
             0.9,
             "#4d9221"
            ],
            [
             1,
             "#276419"
            ]
           ],
           "sequential": [
            [
             0,
             "#0d0887"
            ],
            [
             0.1111111111111111,
             "#46039f"
            ],
            [
             0.2222222222222222,
             "#7201a8"
            ],
            [
             0.3333333333333333,
             "#9c179e"
            ],
            [
             0.4444444444444444,
             "#bd3786"
            ],
            [
             0.5555555555555556,
             "#d8576b"
            ],
            [
             0.6666666666666666,
             "#ed7953"
            ],
            [
             0.7777777777777778,
             "#fb9f3a"
            ],
            [
             0.8888888888888888,
             "#fdca26"
            ],
            [
             1,
             "#f0f921"
            ]
           ],
           "sequentialminus": [
            [
             0,
             "#0d0887"
            ],
            [
             0.1111111111111111,
             "#46039f"
            ],
            [
             0.2222222222222222,
             "#7201a8"
            ],
            [
             0.3333333333333333,
             "#9c179e"
            ],
            [
             0.4444444444444444,
             "#bd3786"
            ],
            [
             0.5555555555555556,
             "#d8576b"
            ],
            [
             0.6666666666666666,
             "#ed7953"
            ],
            [
             0.7777777777777778,
             "#fb9f3a"
            ],
            [
             0.8888888888888888,
             "#fdca26"
            ],
            [
             1,
             "#f0f921"
            ]
           ]
          },
          "colorway": [
           "#636efa",
           "#EF553B",
           "#00cc96",
           "#ab63fa",
           "#FFA15A",
           "#19d3f3",
           "#FF6692",
           "#B6E880",
           "#FF97FF",
           "#FECB52"
          ],
          "font": {
           "color": "#2a3f5f"
          },
          "geo": {
           "bgcolor": "white",
           "lakecolor": "white",
           "landcolor": "#E5ECF6",
           "showlakes": true,
           "showland": true,
           "subunitcolor": "white"
          },
          "hoverlabel": {
           "align": "left"
          },
          "hovermode": "closest",
          "mapbox": {
           "style": "light"
          },
          "paper_bgcolor": "white",
          "plot_bgcolor": "#E5ECF6",
          "polar": {
           "angularaxis": {
            "gridcolor": "white",
            "linecolor": "white",
            "ticks": ""
           },
           "bgcolor": "#E5ECF6",
           "radialaxis": {
            "gridcolor": "white",
            "linecolor": "white",
            "ticks": ""
           }
          },
          "scene": {
           "xaxis": {
            "backgroundcolor": "#E5ECF6",
            "gridcolor": "white",
            "gridwidth": 2,
            "linecolor": "white",
            "showbackground": true,
            "ticks": "",
            "zerolinecolor": "white"
           },
           "yaxis": {
            "backgroundcolor": "#E5ECF6",
            "gridcolor": "white",
            "gridwidth": 2,
            "linecolor": "white",
            "showbackground": true,
            "ticks": "",
            "zerolinecolor": "white"
           },
           "zaxis": {
            "backgroundcolor": "#E5ECF6",
            "gridcolor": "white",
            "gridwidth": 2,
            "linecolor": "white",
            "showbackground": true,
            "ticks": "",
            "zerolinecolor": "white"
           }
          },
          "shapedefaults": {
           "line": {
            "color": "#2a3f5f"
           }
          },
          "ternary": {
           "aaxis": {
            "gridcolor": "white",
            "linecolor": "white",
            "ticks": ""
           },
           "baxis": {
            "gridcolor": "white",
            "linecolor": "white",
            "ticks": ""
           },
           "bgcolor": "#E5ECF6",
           "caxis": {
            "gridcolor": "white",
            "linecolor": "white",
            "ticks": ""
           }
          },
          "title": {
           "x": 0.05
          },
          "xaxis": {
           "automargin": true,
           "gridcolor": "white",
           "linecolor": "white",
           "ticks": "",
           "title": {
            "standoff": 15
           },
           "zerolinecolor": "white",
           "zerolinewidth": 2
          },
          "yaxis": {
           "automargin": true,
           "gridcolor": "white",
           "linecolor": "white",
           "ticks": "",
           "title": {
            "standoff": 15
           },
           "zerolinecolor": "white",
           "zerolinewidth": 2
          }
         }
        },
        "title": {
         "text": ""
        },
        "width": 600
       }
      },
      "text/html": [
       "<div>                            <div id=\"edcdf703-265e-483d-9e85-9419ef27ecf2\" class=\"plotly-graph-div\" style=\"height:800px; width:600px;\"></div>            <script type=\"text/javascript\">                require([\"plotly\"], function(Plotly) {                    window.PLOTLYENV=window.PLOTLYENV || {};                                    if (document.getElementById(\"edcdf703-265e-483d-9e85-9419ef27ecf2\")) {                    Plotly.newPlot(                        \"edcdf703-265e-483d-9e85-9419ef27ecf2\",                        [{\"hoverinfo\":[\"x\",\"text\"],\"marker\":{\"color\":[0.0,9.0,18.0,27.0,36.0,45.0,54.0,63.0,72.0,81.0,90.0,99.0,108.0,117.0,126.0,135.0,144.0,153.0,162.0,171.0,180.0,189.0,198.0,207.0,216.0,225.0,234.0,243.0,252.0,261.0,270.0,279.0,288.0,297.0,306.0,315.0,324.0,333.0,342.0,351.0],\"colorscale\":[[0.0,\"#e2d9e2\"],[0.1111111111111111,\"#9ebbc9\"],[0.2222222222222222,\"#6785be\"],[0.3333333333333333,\"#5e43a5\"],[0.4444444444444444,\"#421257\"],[0.5555555555555556,\"#471340\"],[0.6666666666666666,\"#8e2c50\"],[0.7777777777777778,\"#ba6657\"],[0.8888888888888888,\"#ceac94\"],[1.0,\"#e2d9e2\"]],\"size\":5,\"sizemode\":\"diameter\"},\"mode\":\"markers\",\"name\":\"orientation\",\"text\":[0.0,9.0,18.0,27.0,36.0,45.0,54.0,63.0,72.0,81.0,90.0,99.0,108.0,117.0,126.0,135.0,144.0,153.0,162.0,171.0,180.0,189.0,198.0,207.0,216.0,225.0,234.0,243.0,252.0,261.0,270.0,279.0,288.0,297.0,306.0,315.0,324.0,333.0,342.0,351.0],\"x\":[0.2564128398584487,0.3905970637525332,0.19493047036959604,0.30966485359479246,0.32216122543546305,0.40486613646060243,0.4355487067482599,0.5662454773952927,0.647130161502933,0.4424436955516941,0.5495170878450985,0.5339399298825628,0.554186959966337,0.6431809633462369,0.42293135048309294,0.3828915842955502,0.3886887439835693,0.3701513692896436,0.3107220072358502,0.3282266049505367,-0.36075790843385824,-0.4156304031234385,-0.4649163122824485,-0.4528654887187143,-0.3464073459097478,-0.5150506421545503,-0.42787724664605714,-0.4016537833403075,-0.3626848640537079,-0.38279032155998105,-0.3485930060197945,-0.49896876056448763,-0.3602104798698449,-0.46653137257440513,-0.37874463162203337,-0.4555120110101467,-0.43514068714092013,-0.49246842885645514,-0.4843178710942094,-0.4033156669729897],\"y\":[-0.1451496881583266,-0.16788307367416902,-0.24651062451141034,-0.2896511039018097,-0.11468764650639916,-0.013804234677230883,-0.06149333450758988,0.12020838776300098,0.11979455796759346,0.22160814847879945,0.18361503170252436,0.2522461347477254,0.23542007349838648,0.1915277157210597,-0.13350391127576106,0.08747275854203491,-0.14616466654306806,-0.08181675415318734,-0.2601101935013105,-0.2482668350002834,-0.3520810358165311,-0.4420877623884158,-0.2570047103443735,-0.30115410976463014,-0.10006128009067654,0.027337304041648806,0.16033593485220948,0.2979380950220582,0.5021458175476701,0.30991008795509,0.45174834500641103,0.43973504742235925,0.19822687605573008,0.09380747753422708,0.0656162870439259,-0.057359491592519324,-0.068508671656645,-0.10606030097105214,-0.1551477720064512,-0.21018687986062032],\"z\":[0.2040045480598192,0.029297395657497158,-0.0912402751432796,-0.10883003444893605,-0.253697933572049,-0.09487902683102536,-0.16876413625367742,-0.17722623495459391,-0.08251822574003746,-0.14496802609698947,0.023627696577316903,-0.03127553046004924,-0.011162074306821677,-0.028706394785530987,-0.09893356934917173,0.17996626588981612,0.05213407486448176,0.324700926799806,0.2649127379563807,0.3086017285527479,0.12007189134148176,-0.06567262037243352,-0.07841778357831429,-0.12439312560738544,0.03091560130734043,-0.0862395228830933,-0.026444642419836625,0.04919772658595803,0.08072662807774893,0.02158407175853139,0.14040645789584605,0.17543629892789836,-0.09009078475636945,-0.16790117596528112,-0.10475246626035613,-0.06455276140223874,-0.05767505358789346,-0.07385832973331415,0.01759824506719976,0.2090174331888072],\"type\":\"scatter3d\",\"scene\":\"scene\"},{\"hoverinfo\":[\"x\",\"text\"],\"marker\":{\"color\":[0.0,0.0,0.0,0.0,0.0,0.0,0.0,0.0,0.0,0.0,0.0,0.0,0.0,0.0,0.0,0.0,0.0,0.0,0.0,0.0,0.31136249246520364,0.5205617130032414,0.6859096590686584,0.5644129874758622,0.4867675903556866,0.335792608992151,0.4112800996739192,0.41128009967391943,0.4112800996739192,0.41128009967391954,0.4112800996739192,0.41128009967391943,0.26166525327762247,0.2541845109578078,0.2616652532776227,0.24670376863799304,0.2854676152043062,0.2603051183103835,0.171896345439845,0.2416294189525241],\"colorscale\":[[0.0,\"#e2d9e2\"],[0.1111111111111111,\"#9ebbc9\"],[0.2222222222222222,\"#6785be\"],[0.3333333333333333,\"#5e43a5\"],[0.4444444444444444,\"#421257\"],[0.5555555555555556,\"#471340\"],[0.6666666666666666,\"#8e2c50\"],[0.7777777777777778,\"#ba6657\"],[0.8888888888888888,\"#ceac94\"],[1.0,\"#e2d9e2\"]],\"size\":5,\"sizemode\":\"diameter\"},\"mode\":\"markers\",\"name\":\"decoding\",\"text\":[0.0,0.0,0.0,0.0,0.0,0.0,0.0,0.0,0.0,0.0,0.0,0.0,0.0,0.0,0.0,0.0,0.0,0.0,0.0,0.0,0.31136249246520364,0.5205617130032414,0.6859096590686584,0.5644129874758622,0.4867675903556866,0.335792608992151,0.4112800996739192,0.41128009967391943,0.4112800996739192,0.41128009967391954,0.4112800996739192,0.41128009967391943,0.26166525327762247,0.2541845109578078,0.2616652532776227,0.24670376863799304,0.2854676152043062,0.2603051183103835,0.171896345439845,0.2416294189525241],\"x\":[0.2564128398584487,0.3905970637525332,0.19493047036959604,0.30966485359479246,0.32216122543546305,0.40486613646060243,0.4355487067482599,0.5662454773952927,0.647130161502933,0.4424436955516941,0.5495170878450985,0.5339399298825628,0.554186959966337,0.6431809633462369,0.42293135048309294,0.3828915842955502,0.3886887439835693,0.3701513692896436,0.3107220072358502,0.3282266049505367,-0.36075790843385824,-0.4156304031234385,-0.4649163122824485,-0.4528654887187143,-0.3464073459097478,-0.5150506421545503,-0.42787724664605714,-0.4016537833403075,-0.3626848640537079,-0.38279032155998105,-0.3485930060197945,-0.49896876056448763,-0.3602104798698449,-0.46653137257440513,-0.37874463162203337,-0.4555120110101467,-0.43514068714092013,-0.49246842885645514,-0.4843178710942094,-0.4033156669729897],\"y\":[-0.1451496881583266,-0.16788307367416902,-0.24651062451141034,-0.2896511039018097,-0.11468764650639916,-0.013804234677230883,-0.06149333450758988,0.12020838776300098,0.11979455796759346,0.22160814847879945,0.18361503170252436,0.2522461347477254,0.23542007349838648,0.1915277157210597,-0.13350391127576106,0.08747275854203491,-0.14616466654306806,-0.08181675415318734,-0.2601101935013105,-0.2482668350002834,-0.3520810358165311,-0.4420877623884158,-0.2570047103443735,-0.30115410976463014,-0.10006128009067654,0.027337304041648806,0.16033593485220948,0.2979380950220582,0.5021458175476701,0.30991008795509,0.45174834500641103,0.43973504742235925,0.19822687605573008,0.09380747753422708,0.0656162870439259,-0.057359491592519324,-0.068508671656645,-0.10606030097105214,-0.1551477720064512,-0.21018687986062032],\"z\":[0.2040045480598192,0.029297395657497158,-0.0912402751432796,-0.10883003444893605,-0.253697933572049,-0.09487902683102536,-0.16876413625367742,-0.17722623495459391,-0.08251822574003746,-0.14496802609698947,0.023627696577316903,-0.03127553046004924,-0.011162074306821677,-0.028706394785530987,-0.09893356934917173,0.17996626588981612,0.05213407486448176,0.324700926799806,0.2649127379563807,0.3086017285527479,0.12007189134148176,-0.06567262037243352,-0.07841778357831429,-0.12439312560738544,0.03091560130734043,-0.0862395228830933,-0.026444642419836625,0.04919772658595803,0.08072662807774893,0.02158407175853139,0.14040645789584605,0.17543629892789836,-0.09009078475636945,-0.16790117596528112,-0.10475246626035613,-0.06455276140223874,-0.05767505358789346,-0.07385832973331415,0.01759824506719976,0.2090174331888072],\"type\":\"scatter3d\",\"scene\":\"scene2\"}],                        {\"template\":{\"data\":{\"bar\":[{\"error_x\":{\"color\":\"#2a3f5f\"},\"error_y\":{\"color\":\"#2a3f5f\"},\"marker\":{\"line\":{\"color\":\"#E5ECF6\",\"width\":0.5},\"pattern\":{\"fillmode\":\"overlay\",\"size\":10,\"solidity\":0.2}},\"type\":\"bar\"}],\"barpolar\":[{\"marker\":{\"line\":{\"color\":\"#E5ECF6\",\"width\":0.5},\"pattern\":{\"fillmode\":\"overlay\",\"size\":10,\"solidity\":0.2}},\"type\":\"barpolar\"}],\"carpet\":[{\"aaxis\":{\"endlinecolor\":\"#2a3f5f\",\"gridcolor\":\"white\",\"linecolor\":\"white\",\"minorgridcolor\":\"white\",\"startlinecolor\":\"#2a3f5f\"},\"baxis\":{\"endlinecolor\":\"#2a3f5f\",\"gridcolor\":\"white\",\"linecolor\":\"white\",\"minorgridcolor\":\"white\",\"startlinecolor\":\"#2a3f5f\"},\"type\":\"carpet\"}],\"choropleth\":[{\"colorbar\":{\"outlinewidth\":0,\"ticks\":\"\"},\"type\":\"choropleth\"}],\"contour\":[{\"colorbar\":{\"outlinewidth\":0,\"ticks\":\"\"},\"colorscale\":[[0.0,\"#0d0887\"],[0.1111111111111111,\"#46039f\"],[0.2222222222222222,\"#7201a8\"],[0.3333333333333333,\"#9c179e\"],[0.4444444444444444,\"#bd3786\"],[0.5555555555555556,\"#d8576b\"],[0.6666666666666666,\"#ed7953\"],[0.7777777777777778,\"#fb9f3a\"],[0.8888888888888888,\"#fdca26\"],[1.0,\"#f0f921\"]],\"type\":\"contour\"}],\"contourcarpet\":[{\"colorbar\":{\"outlinewidth\":0,\"ticks\":\"\"},\"type\":\"contourcarpet\"}],\"heatmap\":[{\"colorbar\":{\"outlinewidth\":0,\"ticks\":\"\"},\"colorscale\":[[0.0,\"#0d0887\"],[0.1111111111111111,\"#46039f\"],[0.2222222222222222,\"#7201a8\"],[0.3333333333333333,\"#9c179e\"],[0.4444444444444444,\"#bd3786\"],[0.5555555555555556,\"#d8576b\"],[0.6666666666666666,\"#ed7953\"],[0.7777777777777778,\"#fb9f3a\"],[0.8888888888888888,\"#fdca26\"],[1.0,\"#f0f921\"]],\"type\":\"heatmap\"}],\"heatmapgl\":[{\"colorbar\":{\"outlinewidth\":0,\"ticks\":\"\"},\"colorscale\":[[0.0,\"#0d0887\"],[0.1111111111111111,\"#46039f\"],[0.2222222222222222,\"#7201a8\"],[0.3333333333333333,\"#9c179e\"],[0.4444444444444444,\"#bd3786\"],[0.5555555555555556,\"#d8576b\"],[0.6666666666666666,\"#ed7953\"],[0.7777777777777778,\"#fb9f3a\"],[0.8888888888888888,\"#fdca26\"],[1.0,\"#f0f921\"]],\"type\":\"heatmapgl\"}],\"histogram\":[{\"marker\":{\"pattern\":{\"fillmode\":\"overlay\",\"size\":10,\"solidity\":0.2}},\"type\":\"histogram\"}],\"histogram2d\":[{\"colorbar\":{\"outlinewidth\":0,\"ticks\":\"\"},\"colorscale\":[[0.0,\"#0d0887\"],[0.1111111111111111,\"#46039f\"],[0.2222222222222222,\"#7201a8\"],[0.3333333333333333,\"#9c179e\"],[0.4444444444444444,\"#bd3786\"],[0.5555555555555556,\"#d8576b\"],[0.6666666666666666,\"#ed7953\"],[0.7777777777777778,\"#fb9f3a\"],[0.8888888888888888,\"#fdca26\"],[1.0,\"#f0f921\"]],\"type\":\"histogram2d\"}],\"histogram2dcontour\":[{\"colorbar\":{\"outlinewidth\":0,\"ticks\":\"\"},\"colorscale\":[[0.0,\"#0d0887\"],[0.1111111111111111,\"#46039f\"],[0.2222222222222222,\"#7201a8\"],[0.3333333333333333,\"#9c179e\"],[0.4444444444444444,\"#bd3786\"],[0.5555555555555556,\"#d8576b\"],[0.6666666666666666,\"#ed7953\"],[0.7777777777777778,\"#fb9f3a\"],[0.8888888888888888,\"#fdca26\"],[1.0,\"#f0f921\"]],\"type\":\"histogram2dcontour\"}],\"mesh3d\":[{\"colorbar\":{\"outlinewidth\":0,\"ticks\":\"\"},\"type\":\"mesh3d\"}],\"parcoords\":[{\"line\":{\"colorbar\":{\"outlinewidth\":0,\"ticks\":\"\"}},\"type\":\"parcoords\"}],\"pie\":[{\"automargin\":true,\"type\":\"pie\"}],\"scatter\":[{\"marker\":{\"colorbar\":{\"outlinewidth\":0,\"ticks\":\"\"}},\"type\":\"scatter\"}],\"scatter3d\":[{\"line\":{\"colorbar\":{\"outlinewidth\":0,\"ticks\":\"\"}},\"marker\":{\"colorbar\":{\"outlinewidth\":0,\"ticks\":\"\"}},\"type\":\"scatter3d\"}],\"scattercarpet\":[{\"marker\":{\"colorbar\":{\"outlinewidth\":0,\"ticks\":\"\"}},\"type\":\"scattercarpet\"}],\"scattergeo\":[{\"marker\":{\"colorbar\":{\"outlinewidth\":0,\"ticks\":\"\"}},\"type\":\"scattergeo\"}],\"scattergl\":[{\"marker\":{\"colorbar\":{\"outlinewidth\":0,\"ticks\":\"\"}},\"type\":\"scattergl\"}],\"scattermapbox\":[{\"marker\":{\"colorbar\":{\"outlinewidth\":0,\"ticks\":\"\"}},\"type\":\"scattermapbox\"}],\"scatterpolar\":[{\"marker\":{\"colorbar\":{\"outlinewidth\":0,\"ticks\":\"\"}},\"type\":\"scatterpolar\"}],\"scatterpolargl\":[{\"marker\":{\"colorbar\":{\"outlinewidth\":0,\"ticks\":\"\"}},\"type\":\"scatterpolargl\"}],\"scatterternary\":[{\"marker\":{\"colorbar\":{\"outlinewidth\":0,\"ticks\":\"\"}},\"type\":\"scatterternary\"}],\"surface\":[{\"colorbar\":{\"outlinewidth\":0,\"ticks\":\"\"},\"colorscale\":[[0.0,\"#0d0887\"],[0.1111111111111111,\"#46039f\"],[0.2222222222222222,\"#7201a8\"],[0.3333333333333333,\"#9c179e\"],[0.4444444444444444,\"#bd3786\"],[0.5555555555555556,\"#d8576b\"],[0.6666666666666666,\"#ed7953\"],[0.7777777777777778,\"#fb9f3a\"],[0.8888888888888888,\"#fdca26\"],[1.0,\"#f0f921\"]],\"type\":\"surface\"}],\"table\":[{\"cells\":{\"fill\":{\"color\":\"#EBF0F8\"},\"line\":{\"color\":\"white\"}},\"header\":{\"fill\":{\"color\":\"#C8D4E3\"},\"line\":{\"color\":\"white\"}},\"type\":\"table\"}]},\"layout\":{\"annotationdefaults\":{\"arrowcolor\":\"#2a3f5f\",\"arrowhead\":0,\"arrowwidth\":1},\"autotypenumbers\":\"strict\",\"coloraxis\":{\"colorbar\":{\"outlinewidth\":0,\"ticks\":\"\"}},\"colorscale\":{\"diverging\":[[0,\"#8e0152\"],[0.1,\"#c51b7d\"],[0.2,\"#de77ae\"],[0.3,\"#f1b6da\"],[0.4,\"#fde0ef\"],[0.5,\"#f7f7f7\"],[0.6,\"#e6f5d0\"],[0.7,\"#b8e186\"],[0.8,\"#7fbc41\"],[0.9,\"#4d9221\"],[1,\"#276419\"]],\"sequential\":[[0.0,\"#0d0887\"],[0.1111111111111111,\"#46039f\"],[0.2222222222222222,\"#7201a8\"],[0.3333333333333333,\"#9c179e\"],[0.4444444444444444,\"#bd3786\"],[0.5555555555555556,\"#d8576b\"],[0.6666666666666666,\"#ed7953\"],[0.7777777777777778,\"#fb9f3a\"],[0.8888888888888888,\"#fdca26\"],[1.0,\"#f0f921\"]],\"sequentialminus\":[[0.0,\"#0d0887\"],[0.1111111111111111,\"#46039f\"],[0.2222222222222222,\"#7201a8\"],[0.3333333333333333,\"#9c179e\"],[0.4444444444444444,\"#bd3786\"],[0.5555555555555556,\"#d8576b\"],[0.6666666666666666,\"#ed7953\"],[0.7777777777777778,\"#fb9f3a\"],[0.8888888888888888,\"#fdca26\"],[1.0,\"#f0f921\"]]},\"colorway\":[\"#636efa\",\"#EF553B\",\"#00cc96\",\"#ab63fa\",\"#FFA15A\",\"#19d3f3\",\"#FF6692\",\"#B6E880\",\"#FF97FF\",\"#FECB52\"],\"font\":{\"color\":\"#2a3f5f\"},\"geo\":{\"bgcolor\":\"white\",\"lakecolor\":\"white\",\"landcolor\":\"#E5ECF6\",\"showlakes\":true,\"showland\":true,\"subunitcolor\":\"white\"},\"hoverlabel\":{\"align\":\"left\"},\"hovermode\":\"closest\",\"mapbox\":{\"style\":\"light\"},\"paper_bgcolor\":\"white\",\"plot_bgcolor\":\"#E5ECF6\",\"polar\":{\"angularaxis\":{\"gridcolor\":\"white\",\"linecolor\":\"white\",\"ticks\":\"\"},\"bgcolor\":\"#E5ECF6\",\"radialaxis\":{\"gridcolor\":\"white\",\"linecolor\":\"white\",\"ticks\":\"\"}},\"scene\":{\"xaxis\":{\"backgroundcolor\":\"#E5ECF6\",\"gridcolor\":\"white\",\"gridwidth\":2,\"linecolor\":\"white\",\"showbackground\":true,\"ticks\":\"\",\"zerolinecolor\":\"white\"},\"yaxis\":{\"backgroundcolor\":\"#E5ECF6\",\"gridcolor\":\"white\",\"gridwidth\":2,\"linecolor\":\"white\",\"showbackground\":true,\"ticks\":\"\",\"zerolinecolor\":\"white\"},\"zaxis\":{\"backgroundcolor\":\"#E5ECF6\",\"gridcolor\":\"white\",\"gridwidth\":2,\"linecolor\":\"white\",\"showbackground\":true,\"ticks\":\"\",\"zerolinecolor\":\"white\"}},\"shapedefaults\":{\"line\":{\"color\":\"#2a3f5f\"}},\"ternary\":{\"aaxis\":{\"gridcolor\":\"white\",\"linecolor\":\"white\",\"ticks\":\"\"},\"baxis\":{\"gridcolor\":\"white\",\"linecolor\":\"white\",\"ticks\":\"\"},\"bgcolor\":\"#E5ECF6\",\"caxis\":{\"gridcolor\":\"white\",\"linecolor\":\"white\",\"ticks\":\"\"}},\"title\":{\"x\":0.05},\"xaxis\":{\"automargin\":true,\"gridcolor\":\"white\",\"linecolor\":\"white\",\"ticks\":\"\",\"title\":{\"standoff\":15},\"zerolinecolor\":\"white\",\"zerolinewidth\":2},\"yaxis\":{\"automargin\":true,\"gridcolor\":\"white\",\"linecolor\":\"white\",\"ticks\":\"\",\"title\":{\"standoff\":15},\"zerolinecolor\":\"white\",\"zerolinewidth\":2}}},\"scene\":{\"domain\":{\"x\":[0.0,1.0],\"y\":[0.575,1.0]}},\"scene2\":{\"domain\":{\"x\":[0.0,1.0],\"y\":[0.0,0.425]}},\"title\":{\"text\":\"\"},\"height\":800,\"width\":600},                        {\"responsive\": true}                    ).then(function(){\n",
       "                            \n",
       "var gd = document.getElementById('edcdf703-265e-483d-9e85-9419ef27ecf2');\n",
       "var x = new MutationObserver(function (mutations, observer) {{\n",
       "        var display = window.getComputedStyle(gd).display;\n",
       "        if (!display || display === 'none') {{\n",
       "            console.log([gd, 'removed!']);\n",
       "            Plotly.purge(gd);\n",
       "            observer.disconnect();\n",
       "        }}\n",
       "}});\n",
       "\n",
       "// Listen for the removal of the full notebook cells\n",
       "var notebookContainer = gd.closest('#notebook-container');\n",
       "if (notebookContainer) {{\n",
       "    x.observe(notebookContainer, {childList: true});\n",
       "}}\n",
       "\n",
       "// Listen for the clearing of the current output cell\n",
       "var outputEl = gd.closest('.output');\n",
       "if (outputEl) {{\n",
       "    x.observe(outputEl, {childList: true});\n",
       "}}\n",
       "\n",
       "                        })                };                });            </script>        </div>"
      ]
     },
     "metadata": {},
     "output_type": "display_data"
    },
    {
     "name": "stderr",
     "output_type": "stream",
     "text": [
      "Start : This command cannot be run due to the error: The system cannot find the file specified.\n",
      "At line:1 char:1\n",
      "+ Start \"/home/loek/projects/top_vision/temp-plot.html\"\n",
      "+ ~~~~~~~~~~~~~~~~~~~~~~~~~~~~~~~~~~~~~~~~~~~~~~~~~~~~~\n",
      "    + CategoryInfo          : InvalidOperation: (:) [Start-Process], InvalidOperationException\n",
      "    + FullyQualifiedErrorId : InvalidOperationException,Microsoft.PowerShell.Commands.StartProcessCommand\n",
      " \n"
     ]
    }
   ],
   "source": [
    "## Decode first parameter\n",
    "decoding1 = cohomological_parameterization(data, cocycle_number=3, weighted=False, coeff=23)\n",
    "# decoding1 = PCA_reduction(data,dim=1)\n",
    "images = show_feature(decoding1, Nimages=10)\n",
    "# interactive(lambda n : plt.imshow(images[n], \"gray\", vmin=-1, vmax=1), n=(0,10-1,1))\n",
    "plot_mean_against_index(data,decoding1,\"orientation\")\n",
    "# plot_mean_against_index(data,decoding1,\"phase\")\n",
    "plot_data(data,transformation=\"PCA\", labels=decoding1, colors=[\"Twilight\",\"Twilight\",\"Twilight\"])"
   ]
  },
  {
   "cell_type": "code",
   "execution_count": null,
   "metadata": {},
   "outputs": [],
   "source": [
    "## Decode second parameter\n",
    "reduced_data = remove_feature(data, decoding1, cut_amplitude=0.5)\n",
    "decoding2 = cohomological_parameterization(reduced_data, cocycle_number=1, coeff=23)\n",
    "images = show_feature(decoding2, Nimages=10)\n",
    "# plot_mean_against_index(data,decoding2,\"orientation\")\n",
    "# plot_mean_against_index(data,decoding2,\"phase\")\n",
    "plot_data(data,transformation=\"PCA\", labels=decoding2, colors=[\"Twilight\",\"Twilight\",\"Twilight\"])"
   ]
  },
  {
   "cell_type": "code",
   "execution_count": null,
   "metadata": {},
   "outputs": [],
   "source": [
    "## Plot tuning\n",
    "for (neuron, firing_rates) in data.iteritems():\n",
    "    firing_rates_ori = firing_rates.groupby(\"orientation\").mean()\n",
    "    plt.plot(firing_rates_ori)\n",
    "    plt.title(\"Orientation\")\n",
    "plt.show()\n",
    "\n",
    "for (neuron, firing_rates) in data.iteritems():\n",
    "    firing_rates_ori = firing_rates.groupby(\"phase\").mean()\n",
    "    plt.plot(firing_rates_ori)\n",
    "    plt.title(\"Phase\")\n",
    "plt.show()\n",
    "\n",
    "# label = \"orientation\"\n",
    "# u_label = np.unique(data.reset_index()[label])\n",
    "# n = len(data.reset_index()[label])/len(u_label)\n",
    "# for (neuron, firing_rates) in data.iteritems():\n",
    "#     firing_rates_ori = firing_rates.groupby(label).mean()\n",
    "#     plt.errorbar(u_label, firing_rates.groupby(label).mean(),\n",
    "#                  firing_rates.groupby(label).std()/np.sqrt(n))\n",
    "#     plt.title(f\"Orientation u_{neuron}\")\n",
    "#     plt.show()\n",
    "\n",
    "# label = \"phase\"\n",
    "# u_label = np.unique(data.reset_index()[label])\n",
    "# n = len(data.reset_index()[label])/len(u_label)\n",
    "# for (neuron, firing_rates) in data.iteritems():\n",
    "#     firing_rates_ori = firing_rates.groupby(label).mean()\n",
    "#     plt.errorbar(u_label, firing_rates.groupby(label).mean(),\n",
    "#                  firing_rates.groupby(label).std()/np.sqrt(n))\n",
    "#     plt.title(f\"Phase u_{neuron}\")\n",
    "#     plt.show()\n",
    "\n",
    "receptive_fields(data, data.reset_index()[\"orientation\"]/171, data.reset_index()[\"phase\"]/342)"
   ]
  }
 ],
 "metadata": {
  "interpreter": {
   "hash": "e63a2b18d730fb354274aae58a6ca485878973ecd0df7d08fdd4cd116120ecad"
  },
  "kernelspec": {
   "display_name": "Python 3.9.7 ('top_vision')",
   "language": "python",
   "name": "python3"
  },
  "language_info": {
   "codemirror_mode": {
    "name": "ipython",
    "version": 3
   },
   "file_extension": ".py",
   "mimetype": "text/x-python",
   "name": "python",
   "nbconvert_exporter": "python",
   "pygments_lexer": "ipython3",
   "version": "3.9.7"
  },
  "orig_nbformat": 4
 },
 "nbformat": 4,
 "nbformat_minor": 2
}
